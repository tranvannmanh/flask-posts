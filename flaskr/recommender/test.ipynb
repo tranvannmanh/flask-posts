{
 "cells": [
  {
   "cell_type": "code",
   "execution_count": 2,
   "metadata": {},
   "outputs": [],
   "source": [
    "import re\n",
    "import string\n",
    "from pyvi import ViTokenizer\n",
    "\n",
    "stopwords_path = './vietnamese-stopword-dash.txt'\n",
    "\n",
    "def stopwords(text_file_path=stopwords_path):\n",
    "    _stopwords = list(open(text_file_path, encoding='utf8').read().split())\n",
    "    return _stopwords\n",
    "\n",
    "_stopwords_default = stopwords()\n",
    "def remove_stopwords(text, stopwords=_stopwords_default):\n",
    "    return \" \".join([word for word in text.split() if word not in stopwords])\n",
    "\n",
    "def remove_numeric(text):\n",
    "    table = str.maketrans({key: None for key in string.digits})\n",
    "    return text.translate(table)\n",
    "\n",
    "def remove_emails(text):\n",
    "    return re.sub('\\S*@\\S*\\s?', '', text)\n",
    "\n",
    "def remove_links(text):\n",
    "    return re.sub(r\"http\\S+\", \"\", text)\n",
    "\n",
    "def remove_multiple_whitespace(text):\n",
    "    return re.sub(\"\\s\\s+\", \" \", text)\n",
    "\n",
    "def remove_newline_characters(text):\n",
    "    return re.sub('\\n', ' ', text)\n",
    "\n",
    "def remove_punctuation(text):\n",
    "    \"\"\"https://stackoverflow.com/a/37221663\"\"\"\n",
    "    table = str.maketrans({key: None for key in string.punctuation})\n",
    "    return text.translate(table)\n",
    "\n",
    "def vi_tokenizer(text):\n",
    "    return ViTokenizer.tokenize(text)\n",
    "\n",
    "def simple_preprocessing(text):\n",
    "    _text = remove_newline_characters(text)\n",
    "    _text = remove_emails(_text)\n",
    "    _text = remove_links(_text)\n",
    "    _text = remove_numeric(_text)\n",
    "    _text = remove_punctuation(_text)\n",
    "    _text = remove_multiple_whitespace(_text)\n",
    "    _text = vi_tokenizer(_text)\n",
    "    _text = remove_stopwords(_text)\n",
    "    return _text"
   ]
  },
  {
   "cell_type": "code",
   "execution_count": null,
   "metadata": {},
   "outputs": [],
   "source": []
  },
  {
   "cell_type": "code",
   "execution_count": null,
   "metadata": {},
   "outputs": [],
   "source": []
  }
 ],
 "metadata": {
  "kernelspec": {
   "display_name": ".venv",
   "language": "python",
   "name": "python3"
  },
  "language_info": {
   "codemirror_mode": {
    "name": "ipython",
    "version": 3
   },
   "file_extension": ".py",
   "mimetype": "text/x-python",
   "name": "python",
   "nbconvert_exporter": "python",
   "pygments_lexer": "ipython3",
   "version": "3.8.0"
  },
  "orig_nbformat": 4
 },
 "nbformat": 4,
 "nbformat_minor": 2
}
